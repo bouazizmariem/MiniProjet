{
  "cells": [
    {
      "cell_type": "code",
      "execution_count": 11,
      "id": "kKuhgSTNeOvE",
      "metadata": {
        "id": "kKuhgSTNeOvE"
      },
      "outputs": [],
      "source": [
        "import pandas as pd\n",
        "import numpy as np\n",
        "from sklearn.model_selection import train_test_split\n",
        "from sklearn.preprocessing import PolynomialFeatures, StandardScaler\n",
        "from sklearn.linear_model import LinearRegression\n",
        "from sklearn.ensemble import RandomForestRegressor\n",
        "from sklearn.metrics import mean_squared_error, r2_score\n",
        "from sklearn.preprocessing import LabelEncoder"
      ]
    },
    {
      "cell_type": "code",
      "execution_count": 12,
      "id": "5c4ccaba-4e07-41c0-9e79-b5db3cfcf51a",
      "metadata": {
        "id": "5c4ccaba-4e07-41c0-9e79-b5db3cfcf51a"
      },
      "outputs": [],
      "source": [
        "data = pd.read_csv('personal_transactions.csv')"
      ]
    },
    {
      "cell_type": "markdown",
      "id": "ItBEd9f3wu2d",
      "metadata": {
        "id": "ItBEd9f3wu2d"
      },
      "source": [
        "https://www.kaggle.com/datasets/bukolafatunde/personal-finance?select=personal_transactions.csv"
      ]
    },
    {
      "cell_type": "code",
      "execution_count": 13,
      "id": "6b6383c3-f549-410c-a678-76894618689b",
      "metadata": {
        "colab": {
          "base_uri": "https://localhost:8080/",
          "height": 206
        },
        "id": "6b6383c3-f549-410c-a678-76894618689b",
        "outputId": "d6839a0b-88a6-44a4-d406-bcf74a16ef2f"
      },
      "outputs": [
        {
          "data": {
            "text/html": [
              "<div>\n",
              "<style scoped>\n",
              "    .dataframe tbody tr th:only-of-type {\n",
              "        vertical-align: middle;\n",
              "    }\n",
              "\n",
              "    .dataframe tbody tr th {\n",
              "        vertical-align: top;\n",
              "    }\n",
              "\n",
              "    .dataframe thead th {\n",
              "        text-align: right;\n",
              "    }\n",
              "</style>\n",
              "<table border=\"1\" class=\"dataframe\">\n",
              "  <thead>\n",
              "    <tr style=\"text-align: right;\">\n",
              "      <th></th>\n",
              "      <th>Date</th>\n",
              "      <th>Description</th>\n",
              "      <th>Amount</th>\n",
              "      <th>Transaction Type</th>\n",
              "      <th>Category</th>\n",
              "      <th>Account Name</th>\n",
              "    </tr>\n",
              "  </thead>\n",
              "  <tbody>\n",
              "    <tr>\n",
              "      <th>0</th>\n",
              "      <td>01/01/2018</td>\n",
              "      <td>Amazon</td>\n",
              "      <td>11.11</td>\n",
              "      <td>debit</td>\n",
              "      <td>Shopping</td>\n",
              "      <td>Platinum Card</td>\n",
              "    </tr>\n",
              "    <tr>\n",
              "      <th>1</th>\n",
              "      <td>01/02/2018</td>\n",
              "      <td>Mortgage Payment</td>\n",
              "      <td>1247.44</td>\n",
              "      <td>debit</td>\n",
              "      <td>Mortgage &amp; Rent</td>\n",
              "      <td>Checking</td>\n",
              "    </tr>\n",
              "    <tr>\n",
              "      <th>2</th>\n",
              "      <td>01/02/2018</td>\n",
              "      <td>Thai Restaurant</td>\n",
              "      <td>24.22</td>\n",
              "      <td>debit</td>\n",
              "      <td>Restaurants</td>\n",
              "      <td>Silver Card</td>\n",
              "    </tr>\n",
              "    <tr>\n",
              "      <th>3</th>\n",
              "      <td>01/03/2018</td>\n",
              "      <td>Credit Card Payment</td>\n",
              "      <td>2298.09</td>\n",
              "      <td>credit</td>\n",
              "      <td>Credit Card Payment</td>\n",
              "      <td>Platinum Card</td>\n",
              "    </tr>\n",
              "    <tr>\n",
              "      <th>4</th>\n",
              "      <td>01/04/2018</td>\n",
              "      <td>Netflix</td>\n",
              "      <td>11.76</td>\n",
              "      <td>debit</td>\n",
              "      <td>Movies &amp; DVDs</td>\n",
              "      <td>Platinum Card</td>\n",
              "    </tr>\n",
              "  </tbody>\n",
              "</table>\n",
              "</div>"
            ],
            "text/plain": [
              "         Date          Description   Amount Transaction Type  \\\n",
              "0  01/01/2018               Amazon    11.11            debit   \n",
              "1  01/02/2018     Mortgage Payment  1247.44            debit   \n",
              "2  01/02/2018      Thai Restaurant    24.22            debit   \n",
              "3  01/03/2018  Credit Card Payment  2298.09           credit   \n",
              "4  01/04/2018              Netflix    11.76            debit   \n",
              "\n",
              "              Category   Account Name  \n",
              "0             Shopping  Platinum Card  \n",
              "1      Mortgage & Rent       Checking  \n",
              "2          Restaurants    Silver Card  \n",
              "3  Credit Card Payment  Platinum Card  \n",
              "4        Movies & DVDs  Platinum Card  "
            ]
          },
          "execution_count": 13,
          "metadata": {},
          "output_type": "execute_result"
        }
      ],
      "source": [
        "data.head()"
      ]
    },
    {
      "cell_type": "code",
      "execution_count": 14,
      "id": "JignhlR2zhGv",
      "metadata": {
        "colab": {
          "base_uri": "https://localhost:8080/"
        },
        "id": "JignhlR2zhGv",
        "outputId": "de9a9e33-6bd1-4a97-ba1a-37b46461f6e2"
      },
      "outputs": [
        {
          "data": {
            "text/plain": [
              "(806, 6)"
            ]
          },
          "execution_count": 14,
          "metadata": {},
          "output_type": "execute_result"
        }
      ],
      "source": [
        "data.shape"
      ]
    },
    {
      "cell_type": "code",
      "execution_count": 15,
      "id": "ceb509da-de4e-4049-bcfd-465b5fcbeb9a",
      "metadata": {
        "colab": {
          "base_uri": "https://localhost:8080/",
          "height": 272
        },
        "id": "ceb509da-de4e-4049-bcfd-465b5fcbeb9a",
        "outputId": "a2f731a4-0041-4922-9a78-a8487bb90270"
      },
      "outputs": [
        {
          "data": {
            "text/plain": [
              "Date                 object\n",
              "Description          object\n",
              "Amount              float64\n",
              "Transaction Type     object\n",
              "Category             object\n",
              "Account Name         object\n",
              "dtype: object"
            ]
          },
          "execution_count": 15,
          "metadata": {},
          "output_type": "execute_result"
        }
      ],
      "source": [
        "data.dtypes"
      ]
    },
    {
      "cell_type": "code",
      "execution_count": 16,
      "id": "39e3d946-a9de-4d83-b135-88f8a9951e90",
      "metadata": {
        "id": "39e3d946-a9de-4d83-b135-88f8a9951e90"
      },
      "outputs": [],
      "source": [
        "from dateutil import parser\n",
        "data['Date'] = data['Date'].apply(parser.parse)"
      ]
    },
    {
      "cell_type": "code",
      "execution_count": 17,
      "id": "d95a7de6-a7f7-4218-becb-e43c967a1ac2",
      "metadata": {
        "colab": {
          "base_uri": "https://localhost:8080/",
          "height": 300
        },
        "id": "d95a7de6-a7f7-4218-becb-e43c967a1ac2",
        "outputId": "1802dd13-09b0-49a2-c5f0-40e4fce1ac0e"
      },
      "outputs": [
        {
          "data": {
            "text/html": [
              "<div>\n",
              "<style scoped>\n",
              "    .dataframe tbody tr th:only-of-type {\n",
              "        vertical-align: middle;\n",
              "    }\n",
              "\n",
              "    .dataframe tbody tr th {\n",
              "        vertical-align: top;\n",
              "    }\n",
              "\n",
              "    .dataframe thead th {\n",
              "        text-align: right;\n",
              "    }\n",
              "</style>\n",
              "<table border=\"1\" class=\"dataframe\">\n",
              "  <thead>\n",
              "    <tr style=\"text-align: right;\">\n",
              "      <th></th>\n",
              "      <th>Amount</th>\n",
              "    </tr>\n",
              "  </thead>\n",
              "  <tbody>\n",
              "    <tr>\n",
              "      <th>count</th>\n",
              "      <td>806.000000</td>\n",
              "    </tr>\n",
              "    <tr>\n",
              "      <th>mean</th>\n",
              "      <td>273.391489</td>\n",
              "    </tr>\n",
              "    <tr>\n",
              "      <th>std</th>\n",
              "      <td>667.630374</td>\n",
              "    </tr>\n",
              "    <tr>\n",
              "      <th>min</th>\n",
              "      <td>1.750000</td>\n",
              "    </tr>\n",
              "    <tr>\n",
              "      <th>25%</th>\n",
              "      <td>15.687500</td>\n",
              "    </tr>\n",
              "    <tr>\n",
              "      <th>50%</th>\n",
              "      <td>37.480000</td>\n",
              "    </tr>\n",
              "    <tr>\n",
              "      <th>75%</th>\n",
              "      <td>117.680000</td>\n",
              "    </tr>\n",
              "    <tr>\n",
              "      <th>max</th>\n",
              "      <td>9200.000000</td>\n",
              "    </tr>\n",
              "  </tbody>\n",
              "</table>\n",
              "</div>"
            ],
            "text/plain": [
              "            Amount\n",
              "count   806.000000\n",
              "mean    273.391489\n",
              "std     667.630374\n",
              "min       1.750000\n",
              "25%      15.687500\n",
              "50%      37.480000\n",
              "75%     117.680000\n",
              "max    9200.000000"
            ]
          },
          "execution_count": 17,
          "metadata": {},
          "output_type": "execute_result"
        }
      ],
      "source": [
        "data.describe()"
      ]
    },
    {
      "cell_type": "code",
      "execution_count": 18,
      "id": "1fab1c14-dcd3-45f0-a37a-e09ffced8458",
      "metadata": {
        "colab": {
          "base_uri": "https://localhost:8080/",
          "height": 175
        },
        "id": "1fab1c14-dcd3-45f0-a37a-e09ffced8458",
        "outputId": "3ac64d19-734e-499c-9cb3-05fa938ba722"
      },
      "outputs": [
        {
          "data": {
            "text/html": [
              "<div>\n",
              "<style scoped>\n",
              "    .dataframe tbody tr th:only-of-type {\n",
              "        vertical-align: middle;\n",
              "    }\n",
              "\n",
              "    .dataframe tbody tr th {\n",
              "        vertical-align: top;\n",
              "    }\n",
              "\n",
              "    .dataframe thead th {\n",
              "        text-align: right;\n",
              "    }\n",
              "</style>\n",
              "<table border=\"1\" class=\"dataframe\">\n",
              "  <thead>\n",
              "    <tr style=\"text-align: right;\">\n",
              "      <th></th>\n",
              "      <th>Description</th>\n",
              "      <th>Transaction Type</th>\n",
              "      <th>Category</th>\n",
              "      <th>Account Name</th>\n",
              "    </tr>\n",
              "  </thead>\n",
              "  <tbody>\n",
              "    <tr>\n",
              "      <th>count</th>\n",
              "      <td>806</td>\n",
              "      <td>806</td>\n",
              "      <td>806</td>\n",
              "      <td>806</td>\n",
              "    </tr>\n",
              "    <tr>\n",
              "      <th>unique</th>\n",
              "      <td>65</td>\n",
              "      <td>2</td>\n",
              "      <td>22</td>\n",
              "      <td>3</td>\n",
              "    </tr>\n",
              "    <tr>\n",
              "      <th>top</th>\n",
              "      <td>Credit Card Payment</td>\n",
              "      <td>debit</td>\n",
              "      <td>Credit Card Payment</td>\n",
              "      <td>Platinum Card</td>\n",
              "    </tr>\n",
              "    <tr>\n",
              "      <th>freq</th>\n",
              "      <td>143</td>\n",
              "      <td>688</td>\n",
              "      <td>143</td>\n",
              "      <td>366</td>\n",
              "    </tr>\n",
              "  </tbody>\n",
              "</table>\n",
              "</div>"
            ],
            "text/plain": [
              "                Description Transaction Type             Category  \\\n",
              "count                   806              806                  806   \n",
              "unique                   65                2                   22   \n",
              "top     Credit Card Payment            debit  Credit Card Payment   \n",
              "freq                    143              688                  143   \n",
              "\n",
              "         Account Name  \n",
              "count             806  \n",
              "unique              3  \n",
              "top     Platinum Card  \n",
              "freq              366  "
            ]
          },
          "execution_count": 18,
          "metadata": {},
          "output_type": "execute_result"
        }
      ],
      "source": [
        "data.describe(include='object')"
      ]
    },
    {
      "cell_type": "code",
      "execution_count": 19,
      "id": "8938fb40-e51b-4054-a4b0-a7046aee810d",
      "metadata": {
        "colab": {
          "base_uri": "https://localhost:8080/",
          "height": 805
        },
        "id": "8938fb40-e51b-4054-a4b0-a7046aee810d",
        "outputId": "8c1a3f98-369b-41f1-86e9-290b3ab0f23a"
      },
      "outputs": [
        {
          "data": {
            "text/plain": [
              "Credit Card Payment       143\n",
              "Groceries                 105\n",
              "Restaurants                81\n",
              "Utilities                  63\n",
              "Shopping                   60\n",
              "Gas & Fuel                 52\n",
              "Paycheck                   46\n",
              "Home Improvement           36\n",
              "Coffee Shops               31\n",
              "Alcohol & Bars             25\n",
              "Music                      21\n",
              "Mobile Phone               21\n",
              "Mortgage & Rent            21\n",
              "Internet                   21\n",
              "Movies & DVDs              18\n",
              "Auto Insurance             18\n",
              "Fast Food                  16\n",
              "Haircut                    13\n",
              "Television                  8\n",
              "Electronics & Software      4\n",
              "Food & Dining               2\n",
              "Entertainment               1\n",
              "Name: Category, dtype: int64"
            ]
          },
          "execution_count": 19,
          "metadata": {},
          "output_type": "execute_result"
        }
      ],
      "source": [
        "data['Category'].value_counts()"
      ]
    },
    {
      "cell_type": "code",
      "execution_count": 20,
      "id": "7c691b55-9e3d-4217-82ed-c0af4fbbc267",
      "metadata": {
        "colab": {
          "base_uri": "https://localhost:8080/",
          "height": 272
        },
        "id": "7c691b55-9e3d-4217-82ed-c0af4fbbc267",
        "outputId": "ddc60531-6a6e-494c-d986-6555cb2af575"
      },
      "outputs": [
        {
          "data": {
            "text/plain": [
              "Date                0\n",
              "Description         0\n",
              "Amount              0\n",
              "Transaction Type    0\n",
              "Category            0\n",
              "Account Name        0\n",
              "dtype: int64"
            ]
          },
          "execution_count": 20,
          "metadata": {},
          "output_type": "execute_result"
        }
      ],
      "source": [
        "data.isnull().sum()"
      ]
    },
    {
      "cell_type": "code",
      "execution_count": 21,
      "id": "2b87acbc-261e-4a75-a7bd-971d528c5744",
      "metadata": {
        "colab": {
          "base_uri": "https://localhost:8080/",
          "height": 53
        },
        "id": "2b87acbc-261e-4a75-a7bd-971d528c5744",
        "outputId": "632c1d74-ecec-4c9b-dafc-899eb6c7af6a"
      },
      "outputs": [
        {
          "data": {
            "text/html": [
              "<div>\n",
              "<style scoped>\n",
              "    .dataframe tbody tr th:only-of-type {\n",
              "        vertical-align: middle;\n",
              "    }\n",
              "\n",
              "    .dataframe tbody tr th {\n",
              "        vertical-align: top;\n",
              "    }\n",
              "\n",
              "    .dataframe thead th {\n",
              "        text-align: right;\n",
              "    }\n",
              "</style>\n",
              "<table border=\"1\" class=\"dataframe\">\n",
              "  <thead>\n",
              "    <tr style=\"text-align: right;\">\n",
              "      <th></th>\n",
              "      <th>Date</th>\n",
              "      <th>Description</th>\n",
              "      <th>Amount</th>\n",
              "      <th>Transaction Type</th>\n",
              "      <th>Category</th>\n",
              "      <th>Account Name</th>\n",
              "    </tr>\n",
              "  </thead>\n",
              "  <tbody>\n",
              "  </tbody>\n",
              "</table>\n",
              "</div>"
            ],
            "text/plain": [
              "Empty DataFrame\n",
              "Columns: [Date, Description, Amount, Transaction Type, Category, Account Name]\n",
              "Index: []"
            ]
          },
          "execution_count": 21,
          "metadata": {},
          "output_type": "execute_result"
        }
      ],
      "source": [
        "data[data.duplicated()]"
      ]
    },
    {
      "cell_type": "code",
      "execution_count": 22,
      "id": "LGYLfqUWqhKd",
      "metadata": {
        "colab": {
          "base_uri": "https://localhost:8080/"
        },
        "id": "LGYLfqUWqhKd",
        "outputId": "d64f34c4-a2f0-4da6-e850-1253aa89d21c"
      },
      "outputs": [
        {
          "data": {
            "text/plain": [
              "{'negative_amounts': Empty DataFrame\n",
              " Columns: [Date, Description, Amount, Transaction Type, Category, Account Name]\n",
              " Index: [],\n",
              " 'invalid_transaction_types': Empty DataFrame\n",
              " Columns: [Date, Description, Amount, Transaction Type, Category, Account Name]\n",
              " Index: [],\n",
              " 'invalid_categories': 0}"
            ]
          },
          "execution_count": 22,
          "metadata": {},
          "output_type": "execute_result"
        }
      ],
      "source": [
        "negative_amounts = data[(data['Transaction Type'] == 'credit') & (data['Amount'] < 0)]\n",
        "valid_transaction_types = ['debit', 'credit']\n",
        "invalid_transaction_types = data[~data['Transaction Type'].isin(valid_transaction_types)]\n",
        "invalid_categories = data['Category'].isnull() | data['Category'].str.strip().eq(\"\")\n",
        "cleaning_issues = {\n",
        "    \"negative_amounts\": negative_amounts,\n",
        "    \"invalid_transaction_types\": invalid_transaction_types,\n",
        "    \"invalid_categories\": invalid_categories.sum(),\n",
        "}\n",
        "\n",
        "cleaning_issues"
      ]
    },
    {
      "cell_type": "code",
      "execution_count": 23,
      "id": "dDkLlH2Ys3_8",
      "metadata": {
        "colab": {
          "base_uri": "https://localhost:8080/",
          "height": 458
        },
        "id": "dDkLlH2Ys3_8",
        "outputId": "bfdc3ebd-1e27-4053-f58c-b5f9ba75c3f8"
      },
      "outputs": [
        {
          "data": {
            "text/plain": [
              "0       -11.11\n",
              "1     -1247.44\n",
              "2       -24.22\n",
              "3      2298.09\n",
              "4       -11.76\n",
              "        ...   \n",
              "801    2250.00\n",
              "802     -33.46\n",
              "803      -4.27\n",
              "804      -1.75\n",
              "805     -75.00\n",
              "Name: NetBalance, Length: 806, dtype: float64"
            ]
          },
          "execution_count": 23,
          "metadata": {},
          "output_type": "execute_result"
        }
      ],
      "source": [
        "data['NetBalance'] = data.apply(\n",
        "    lambda x: x['Amount'] if x['Transaction Type'] == 'credit' else -x['Amount'], axis=1\n",
        ")\n",
        "data['NetBalance']"
      ]
    },
    {
      "cell_type": "code",
      "execution_count": 24,
      "id": "23tjvcxkuOxw",
      "metadata": {
        "id": "23tjvcxkuOxw"
      },
      "outputs": [],
      "source": [
        "data['Month'] = pd.to_datetime(data['Date']).dt.to_period('M')"
      ]
    },
    {
      "cell_type": "code",
      "execution_count": 25,
      "id": "DKqbHc-zuhoC",
      "metadata": {
        "colab": {
          "base_uri": "https://localhost:8080/",
          "height": 330
        },
        "id": "DKqbHc-zuhoC",
        "outputId": "882fdcdd-ab34-4012-a4fd-4ddaec204fd9"
      },
      "outputs": [
        {
          "data": {
            "text/html": [
              "<div>\n",
              "<style scoped>\n",
              "    .dataframe tbody tr th:only-of-type {\n",
              "        vertical-align: middle;\n",
              "    }\n",
              "\n",
              "    .dataframe tbody tr th {\n",
              "        vertical-align: top;\n",
              "    }\n",
              "\n",
              "    .dataframe thead th {\n",
              "        text-align: right;\n",
              "    }\n",
              "</style>\n",
              "<table border=\"1\" class=\"dataframe\">\n",
              "  <thead>\n",
              "    <tr style=\"text-align: right;\">\n",
              "      <th></th>\n",
              "      <th>Date</th>\n",
              "      <th>Description</th>\n",
              "      <th>Amount</th>\n",
              "      <th>Transaction Type</th>\n",
              "      <th>Category</th>\n",
              "      <th>Account Name</th>\n",
              "      <th>NetBalance</th>\n",
              "      <th>Month</th>\n",
              "      <th>Total_Revenues</th>\n",
              "      <th>Total_Expenses</th>\n",
              "      <th>Category_Revenues</th>\n",
              "      <th>Category_Expenses</th>\n",
              "    </tr>\n",
              "  </thead>\n",
              "  <tbody>\n",
              "    <tr>\n",
              "      <th>0</th>\n",
              "      <td>2018-01-01</td>\n",
              "      <td>Amazon</td>\n",
              "      <td>11.11</td>\n",
              "      <td>debit</td>\n",
              "      <td>Shopping</td>\n",
              "      <td>Platinum Card</td>\n",
              "      <td>-11.11</td>\n",
              "      <td>2018-01</td>\n",
              "      <td>7162.89</td>\n",
              "      <td>2931.45</td>\n",
              "      <td>0.00</td>\n",
              "      <td>100.37</td>\n",
              "    </tr>\n",
              "    <tr>\n",
              "      <th>1</th>\n",
              "      <td>2018-01-02</td>\n",
              "      <td>Mortgage Payment</td>\n",
              "      <td>1247.44</td>\n",
              "      <td>debit</td>\n",
              "      <td>Mortgage &amp; Rent</td>\n",
              "      <td>Checking</td>\n",
              "      <td>-1247.44</td>\n",
              "      <td>2018-01</td>\n",
              "      <td>7162.89</td>\n",
              "      <td>2931.45</td>\n",
              "      <td>0.00</td>\n",
              "      <td>1247.44</td>\n",
              "    </tr>\n",
              "    <tr>\n",
              "      <th>2</th>\n",
              "      <td>2018-01-02</td>\n",
              "      <td>Thai Restaurant</td>\n",
              "      <td>24.22</td>\n",
              "      <td>debit</td>\n",
              "      <td>Restaurants</td>\n",
              "      <td>Silver Card</td>\n",
              "      <td>-24.22</td>\n",
              "      <td>2018-01</td>\n",
              "      <td>7162.89</td>\n",
              "      <td>2931.45</td>\n",
              "      <td>0.00</td>\n",
              "      <td>156.80</td>\n",
              "    </tr>\n",
              "    <tr>\n",
              "      <th>3</th>\n",
              "      <td>2018-01-03</td>\n",
              "      <td>Credit Card Payment</td>\n",
              "      <td>2298.09</td>\n",
              "      <td>credit</td>\n",
              "      <td>Credit Card Payment</td>\n",
              "      <td>Platinum Card</td>\n",
              "      <td>2298.09</td>\n",
              "      <td>2018-01</td>\n",
              "      <td>7162.89</td>\n",
              "      <td>2931.45</td>\n",
              "      <td>3162.89</td>\n",
              "      <td>864.80</td>\n",
              "    </tr>\n",
              "    <tr>\n",
              "      <th>4</th>\n",
              "      <td>2018-01-04</td>\n",
              "      <td>Netflix</td>\n",
              "      <td>11.76</td>\n",
              "      <td>debit</td>\n",
              "      <td>Movies &amp; DVDs</td>\n",
              "      <td>Platinum Card</td>\n",
              "      <td>-11.76</td>\n",
              "      <td>2018-01</td>\n",
              "      <td>7162.89</td>\n",
              "      <td>2931.45</td>\n",
              "      <td>0.00</td>\n",
              "      <td>11.76</td>\n",
              "    </tr>\n",
              "  </tbody>\n",
              "</table>\n",
              "</div>"
            ],
            "text/plain": [
              "        Date          Description   Amount Transaction Type  \\\n",
              "0 2018-01-01               Amazon    11.11            debit   \n",
              "1 2018-01-02     Mortgage Payment  1247.44            debit   \n",
              "2 2018-01-02      Thai Restaurant    24.22            debit   \n",
              "3 2018-01-03  Credit Card Payment  2298.09           credit   \n",
              "4 2018-01-04              Netflix    11.76            debit   \n",
              "\n",
              "              Category   Account Name  NetBalance    Month  Total_Revenues  \\\n",
              "0             Shopping  Platinum Card      -11.11  2018-01         7162.89   \n",
              "1      Mortgage & Rent       Checking    -1247.44  2018-01         7162.89   \n",
              "2          Restaurants    Silver Card      -24.22  2018-01         7162.89   \n",
              "3  Credit Card Payment  Platinum Card     2298.09  2018-01         7162.89   \n",
              "4        Movies & DVDs  Platinum Card      -11.76  2018-01         7162.89   \n",
              "\n",
              "   Total_Expenses  Category_Revenues  Category_Expenses  \n",
              "0         2931.45               0.00             100.37  \n",
              "1         2931.45               0.00            1247.44  \n",
              "2         2931.45               0.00             156.80  \n",
              "3         2931.45            3162.89             864.80  \n",
              "4         2931.45               0.00              11.76  "
            ]
          },
          "execution_count": 25,
          "metadata": {},
          "output_type": "execute_result"
        }
      ],
      "source": [
        "# Grouper par mois pour les revenus et dépenses\n",
        "monthly_summary = data.groupby('Month').agg(\n",
        "    Total_Revenues=('Amount', lambda x: x[data['Transaction Type'] == 'credit'].sum()),\n",
        "    Total_Expenses=('Amount', lambda x: x[data['Transaction Type'] == 'debit'].sum())\n",
        ").reset_index()\n",
        "\n",
        "# Grouper par catégorie et mois pour les revenus et dépenses\n",
        "category_monthly_summary = data.groupby(['Category', 'Month']).agg(\n",
        "    Category_Revenues=('Amount', lambda x: x[data['Transaction Type'] == 'credit'].sum()),\n",
        "    Category_Expenses=('Amount', lambda x: x[data['Transaction Type'] == 'debit'].sum())\n",
        ").reset_index()\n",
        "\n",
        "# Joindre les résultats dans la dataframe principale\n",
        "data = pd.merge(data, monthly_summary, on='Month', how='left')\n",
        "data = pd.merge(data, category_monthly_summary, on=['Category', 'Month'], how='left')\n",
        "\n",
        "# Afficher le résultat\n",
        "data.head()\n"
      ]
    },
    {
      "cell_type": "code",
      "execution_count": 26,
      "id": "SkMKIHD62Tvw",
      "metadata": {
        "id": "SkMKIHD62Tvw"
      },
      "outputs": [],
      "source": [
        "data['DayOfWeek'] = data['Date'].dt.dayofweek\n",
        "data['DayOfMonth'] = data['Date'].dt.day\n",
        "data['Year'] = data['Date'].dt.year"
      ]
    },
    {
      "cell_type": "code",
      "execution_count": 27,
      "id": "7-vFySuH1eIu",
      "metadata": {
        "id": "7-vFySuH1eIu"
      },
      "outputs": [],
      "source": [
        "data['Previous_Month_Revenues'] = data.groupby('Month')['Total_Revenues'].shift(1)\n",
        "data['Previous_Month_Expenses'] = data.groupby('Month')['Total_Expenses'].shift(1)\n",
        "\n",
        "# 3. Solde net précédent (même logique que pour les revenus/dépenses)\n",
        "data['Previous_NetBalance'] = data['NetBalance'].shift(1)\n",
        "\n",
        "# 4. Moyenne mobile des revenus/dépenses sur 3 mois (exemple)\n",
        "data['Rolling_Revenues_3M'] = data['Total_Revenues'].rolling(window=3).mean()\n",
        "data['Rolling_Expenses_3M'] = data['Total_Expenses'].rolling(window=3).mean()"
      ]
    },
    {
      "cell_type": "code",
      "execution_count": 28,
      "id": "EUMHklw23jP0",
      "metadata": {
        "id": "EUMHklw23jP0"
      },
      "outputs": [],
      "source": [
        "data = pd.get_dummies(data, columns=['Category'], drop_first=True)\n",
        "data['Transaction_Type_Encoded'] = data['Transaction Type'].apply(lambda x: 1 if x == 'credit' else 0)\n"
      ]
    },
    {
      "cell_type": "code",
      "execution_count": 29,
      "id": "LJlozrSEDXtt",
      "metadata": {
        "colab": {
          "base_uri": "https://localhost:8080/",
          "height": 1000
        },
        "id": "LJlozrSEDXtt",
        "outputId": "f16eafbe-2c3f-4e31-b7a9-9566d6b650c1"
      },
      "outputs": [
        {
          "data": {
            "text/plain": [
              "Date                                0\n",
              "Description                         0\n",
              "Amount                              0\n",
              "Transaction Type                    0\n",
              "Account Name                        0\n",
              "NetBalance                          0\n",
              "Month                               0\n",
              "Total_Revenues                      0\n",
              "Total_Expenses                      0\n",
              "Category_Revenues                   0\n",
              "Category_Expenses                   0\n",
              "DayOfWeek                           0\n",
              "DayOfMonth                          0\n",
              "Year                                0\n",
              "Previous_Month_Revenues            21\n",
              "Previous_Month_Expenses            21\n",
              "Previous_NetBalance                 1\n",
              "Rolling_Revenues_3M                 2\n",
              "Rolling_Expenses_3M                 2\n",
              "Category_Auto Insurance             0\n",
              "Category_Coffee Shops               0\n",
              "Category_Credit Card Payment        0\n",
              "Category_Electronics & Software     0\n",
              "Category_Entertainment              0\n",
              "Category_Fast Food                  0\n",
              "Category_Food & Dining              0\n",
              "Category_Gas & Fuel                 0\n",
              "Category_Groceries                  0\n",
              "Category_Haircut                    0\n",
              "Category_Home Improvement           0\n",
              "Category_Internet                   0\n",
              "Category_Mobile Phone               0\n",
              "Category_Mortgage & Rent            0\n",
              "Category_Movies & DVDs              0\n",
              "Category_Music                      0\n",
              "Category_Paycheck                   0\n",
              "Category_Restaurants                0\n",
              "Category_Shopping                   0\n",
              "Category_Television                 0\n",
              "Category_Utilities                  0\n",
              "Transaction_Type_Encoded            0\n",
              "dtype: int64"
            ]
          },
          "execution_count": 29,
          "metadata": {},
          "output_type": "execute_result"
        }
      ],
      "source": [
        "data.isnull().sum()"
      ]
    },
    {
      "cell_type": "code",
      "execution_count": 30,
      "id": "E8dB7Ex2Eicq",
      "metadata": {
        "colab": {
          "base_uri": "https://localhost:8080/"
        },
        "id": "E8dB7Ex2Eicq",
        "outputId": "cdbd9fa0-cf22-46ee-a47f-39af23ce8d44"
      },
      "outputs": [
        {
          "name": "stdout",
          "output_type": "stream",
          "text": [
            "<PeriodArray>\n",
            "['2018-01', '2018-02', '2018-03', '2018-04', '2018-05', '2018-06', '2018-07',\n",
            " '2018-08', '2018-09', '2018-10', '2018-11', '2018-12', '2019-01', '2019-02',\n",
            " '2019-03', '2019-04', '2019-05', '2019-06', '2019-07', '2019-08', '2019-09']\n",
            "Length: 21, dtype: period[M]\n"
          ]
        }
      ],
      "source": [
        "print(data['Month'].unique())"
      ]
    },
    {
      "cell_type": "code",
      "execution_count": 31,
      "id": "7QBnGPIfBPiN",
      "metadata": {
        "id": "7QBnGPIfBPiN"
      },
      "outputs": [],
      "source": [
        "def impute_with_previous_year_average(dataframe, column):\n",
        "    # Créer une colonne 'Year_Month' qui combine l'année et le mois\n",
        "    dataframe['Year_Month'] = dataframe['Date'].dt.to_period('M')\n",
        "\n",
        "    # Créez une nouvelle colonne avec les valeurs de l'année précédente\n",
        "    dataframe['Previous_Year'] = dataframe['Year'] - 1\n",
        "    dataframe['Previous_Year_Month'] = dataframe['Previous_Year'].astype(str) + '-' + dataframe['Month'].astype(str).str.zfill(2)\n",
        "\n",
        "    # Calculer la moyenne des valeurs pour chaque mois de l'année précédente\n",
        "    previous_year_avg = dataframe.groupby('Previous_Year_Month')[column].mean()\n",
        "\n",
        "    # Imputer les valeurs manquantes avec la moyenne de l'année précédente et du même mois\n",
        "    dataframe[column] = dataframe.apply(\n",
        "        lambda row: previous_year_avg.get(row['Previous_Year_Month'], row[column])\n",
        "        if pd.isna(row[column]) else row[column],\n",
        "        axis=1\n",
        "    )\n",
        "\n",
        "    return dataframe\n",
        "data = impute_with_previous_year_average(data, 'Previous_Month_Revenues')\n",
        "data = impute_with_previous_year_average(data, 'Previous_Month_Expenses')\n",
        "data = impute_with_previous_year_average(data, 'Rolling_Revenues_3M')\n",
        "data = impute_with_previous_year_average(data, 'Rolling_Expenses_3M')\n",
        "data = impute_with_previous_year_average(data, 'Previous_NetBalance')"
      ]
    },
    {
      "cell_type": "code",
      "execution_count": 32,
      "id": "CF1__OkEDPzZ",
      "metadata": {
        "colab": {
          "base_uri": "https://localhost:8080/",
          "height": 1000
        },
        "id": "CF1__OkEDPzZ",
        "outputId": "ce83ab84-108f-415e-a6bf-0fec54c87b4c"
      },
      "outputs": [
        {
          "data": {
            "text/plain": [
              "Date                               0\n",
              "Description                        0\n",
              "Amount                             0\n",
              "Transaction Type                   0\n",
              "Account Name                       0\n",
              "NetBalance                         0\n",
              "Month                              0\n",
              "Total_Revenues                     0\n",
              "Total_Expenses                     0\n",
              "Category_Revenues                  0\n",
              "Category_Expenses                  0\n",
              "DayOfWeek                          0\n",
              "DayOfMonth                         0\n",
              "Year                               0\n",
              "Previous_Month_Revenues            0\n",
              "Previous_Month_Expenses            0\n",
              "Previous_NetBalance                0\n",
              "Rolling_Revenues_3M                0\n",
              "Rolling_Expenses_3M                0\n",
              "Category_Auto Insurance            0\n",
              "Category_Coffee Shops              0\n",
              "Category_Credit Card Payment       0\n",
              "Category_Electronics & Software    0\n",
              "Category_Entertainment             0\n",
              "Category_Fast Food                 0\n",
              "Category_Food & Dining             0\n",
              "Category_Gas & Fuel                0\n",
              "Category_Groceries                 0\n",
              "Category_Haircut                   0\n",
              "Category_Home Improvement          0\n",
              "Category_Internet                  0\n",
              "Category_Mobile Phone              0\n",
              "Category_Mortgage & Rent           0\n",
              "Category_Movies & DVDs             0\n",
              "Category_Music                     0\n",
              "Category_Paycheck                  0\n",
              "Category_Restaurants               0\n",
              "Category_Shopping                  0\n",
              "Category_Television                0\n",
              "Category_Utilities                 0\n",
              "Transaction_Type_Encoded           0\n",
              "Year_Month                         0\n",
              "Previous_Year                      0\n",
              "Previous_Year_Month                0\n",
              "dtype: int64"
            ]
          },
          "execution_count": 32,
          "metadata": {},
          "output_type": "execute_result"
        }
      ],
      "source": [
        "data.isnull().sum()"
      ]
    },
    {
      "cell_type": "code",
      "execution_count": 33,
      "id": "vBcQHk0uIaSS",
      "metadata": {
        "id": "vBcQHk0uIaSS"
      },
      "outputs": [],
      "source": [
        "# Sélectionner les variables liées aux revenus sans les catégories encodées\n",
        "revenues_columns = [\n",
        "    'Total_Revenues', 'Rolling_Revenues_3M',\n",
        "    'Previous_Month_Revenues', 'Previous_NetBalance'\n",
        "]\n",
        "\n",
        "# Sélectionner les variables liées aux dépenses sans les catégories encodées\n",
        "expenses_columns = [\n",
        "    'Total_Expenses', 'Rolling_Expenses_3M',\n",
        "    'Previous_Month_Expenses', 'Previous_NetBalance'\n",
        "]\n",
        "\n",
        "# Sélectionner les données correspondantes aux revenus\n",
        "revenues_data = data[revenues_columns].select_dtypes(include=['float64', 'int32', 'int64'])\n",
        "\n",
        "# Sélectionner les données correspondantes aux dépenses\n",
        "expenses_data = data[expenses_columns].select_dtypes(include=['float64', 'int32', 'int64'])\n",
        "\n",
        "# Calculer la corrélation pour les revenus\n",
        "correlation_matrix_revenues = revenues_data.corr()\n",
        "\n",
        "# Calculer la corrélation pour les dépenses\n",
        "correlation_matrix_expenses = expenses_data.corr()\n",
        "\n"
      ]
    },
    {
      "cell_type": "code",
      "execution_count": 34,
      "id": "feRZlrN6I7a3",
      "metadata": {
        "colab": {
          "base_uri": "https://localhost:8080/",
          "height": 175
        },
        "id": "feRZlrN6I7a3",
        "outputId": "a8f913ac-a7c7-4e5f-a0e8-21d8f3847bfd"
      },
      "outputs": [
        {
          "data": {
            "text/html": [
              "<div>\n",
              "<style scoped>\n",
              "    .dataframe tbody tr th:only-of-type {\n",
              "        vertical-align: middle;\n",
              "    }\n",
              "\n",
              "    .dataframe tbody tr th {\n",
              "        vertical-align: top;\n",
              "    }\n",
              "\n",
              "    .dataframe thead th {\n",
              "        text-align: right;\n",
              "    }\n",
              "</style>\n",
              "<table border=\"1\" class=\"dataframe\">\n",
              "  <thead>\n",
              "    <tr style=\"text-align: right;\">\n",
              "      <th></th>\n",
              "      <th>Total_Expenses</th>\n",
              "      <th>Rolling_Expenses_3M</th>\n",
              "      <th>Previous_Month_Expenses</th>\n",
              "      <th>Previous_NetBalance</th>\n",
              "    </tr>\n",
              "  </thead>\n",
              "  <tbody>\n",
              "    <tr>\n",
              "      <th>Total_Expenses</th>\n",
              "      <td>1.000000</td>\n",
              "      <td>0.986927</td>\n",
              "      <td>1.000000</td>\n",
              "      <td>-0.102204</td>\n",
              "    </tr>\n",
              "    <tr>\n",
              "      <th>Rolling_Expenses_3M</th>\n",
              "      <td>0.986927</td>\n",
              "      <td>1.000000</td>\n",
              "      <td>0.986927</td>\n",
              "      <td>-0.103285</td>\n",
              "    </tr>\n",
              "    <tr>\n",
              "      <th>Previous_Month_Expenses</th>\n",
              "      <td>1.000000</td>\n",
              "      <td>0.986927</td>\n",
              "      <td>1.000000</td>\n",
              "      <td>-0.102204</td>\n",
              "    </tr>\n",
              "    <tr>\n",
              "      <th>Previous_NetBalance</th>\n",
              "      <td>-0.102204</td>\n",
              "      <td>-0.103285</td>\n",
              "      <td>-0.102204</td>\n",
              "      <td>1.000000</td>\n",
              "    </tr>\n",
              "  </tbody>\n",
              "</table>\n",
              "</div>"
            ],
            "text/plain": [
              "                         Total_Expenses  Rolling_Expenses_3M  \\\n",
              "Total_Expenses                 1.000000             0.986927   \n",
              "Rolling_Expenses_3M            0.986927             1.000000   \n",
              "Previous_Month_Expenses        1.000000             0.986927   \n",
              "Previous_NetBalance           -0.102204            -0.103285   \n",
              "\n",
              "                         Previous_Month_Expenses  Previous_NetBalance  \n",
              "Total_Expenses                          1.000000            -0.102204  \n",
              "Rolling_Expenses_3M                     0.986927            -0.103285  \n",
              "Previous_Month_Expenses                 1.000000            -0.102204  \n",
              "Previous_NetBalance                    -0.102204             1.000000  "
            ]
          },
          "execution_count": 34,
          "metadata": {},
          "output_type": "execute_result"
        }
      ],
      "source": [
        "correlation_matrix_expenses"
      ]
    },
    {
      "cell_type": "code",
      "execution_count": 35,
      "id": "eGioRQUaI1Ds",
      "metadata": {
        "colab": {
          "base_uri": "https://localhost:8080/",
          "height": 175
        },
        "id": "eGioRQUaI1Ds",
        "outputId": "43987a1a-f055-45a0-b1a7-34c4e9fe1914"
      },
      "outputs": [
        {
          "data": {
            "text/html": [
              "<div>\n",
              "<style scoped>\n",
              "    .dataframe tbody tr th:only-of-type {\n",
              "        vertical-align: middle;\n",
              "    }\n",
              "\n",
              "    .dataframe tbody tr th {\n",
              "        vertical-align: top;\n",
              "    }\n",
              "\n",
              "    .dataframe thead th {\n",
              "        text-align: right;\n",
              "    }\n",
              "</style>\n",
              "<table border=\"1\" class=\"dataframe\">\n",
              "  <thead>\n",
              "    <tr style=\"text-align: right;\">\n",
              "      <th></th>\n",
              "      <th>Total_Revenues</th>\n",
              "      <th>Rolling_Revenues_3M</th>\n",
              "      <th>Previous_Month_Revenues</th>\n",
              "      <th>Previous_NetBalance</th>\n",
              "    </tr>\n",
              "  </thead>\n",
              "  <tbody>\n",
              "    <tr>\n",
              "      <th>Total_Revenues</th>\n",
              "      <td>1.000000</td>\n",
              "      <td>0.983510</td>\n",
              "      <td>1.000000</td>\n",
              "      <td>0.053929</td>\n",
              "    </tr>\n",
              "    <tr>\n",
              "      <th>Rolling_Revenues_3M</th>\n",
              "      <td>0.983510</td>\n",
              "      <td>1.000000</td>\n",
              "      <td>0.983510</td>\n",
              "      <td>0.056888</td>\n",
              "    </tr>\n",
              "    <tr>\n",
              "      <th>Previous_Month_Revenues</th>\n",
              "      <td>1.000000</td>\n",
              "      <td>0.983510</td>\n",
              "      <td>1.000000</td>\n",
              "      <td>0.053929</td>\n",
              "    </tr>\n",
              "    <tr>\n",
              "      <th>Previous_NetBalance</th>\n",
              "      <td>0.053929</td>\n",
              "      <td>0.056888</td>\n",
              "      <td>0.053929</td>\n",
              "      <td>1.000000</td>\n",
              "    </tr>\n",
              "  </tbody>\n",
              "</table>\n",
              "</div>"
            ],
            "text/plain": [
              "                         Total_Revenues  Rolling_Revenues_3M  \\\n",
              "Total_Revenues                 1.000000             0.983510   \n",
              "Rolling_Revenues_3M            0.983510             1.000000   \n",
              "Previous_Month_Revenues        1.000000             0.983510   \n",
              "Previous_NetBalance            0.053929             0.056888   \n",
              "\n",
              "                         Previous_Month_Revenues  Previous_NetBalance  \n",
              "Total_Revenues                          1.000000             0.053929  \n",
              "Rolling_Revenues_3M                     0.983510             0.056888  \n",
              "Previous_Month_Revenues                 1.000000             0.053929  \n",
              "Previous_NetBalance                     0.053929             1.000000  "
            ]
          },
          "execution_count": 35,
          "metadata": {},
          "output_type": "execute_result"
        }
      ],
      "source": [
        "correlation_matrix_revenues"
      ]
    },
    {
      "cell_type": "code",
      "execution_count": 36,
      "id": "RwFAPRvtIyrs",
      "metadata": {
        "colab": {
          "base_uri": "https://localhost:8080/",
          "height": 1000
        },
        "id": "RwFAPRvtIyrs",
        "outputId": "f26732a2-b9b9-4abb-9695-5ee277d02dcf"
      },
      "outputs": [
        {
          "data": {
            "image/png": "[encoded data removed]",
            "text/plain": [
              "<Figure size 1200x800 with 2 Axes>"
            ]
          },
          "metadata": {},
          "output_type": "display_data"
        },
        {
          "data": {
            "image/png": "[encoded data removed]",
            "text/plain": [
              "<Figure size 1200x800 with 2 Axes>"
            ]
          },
          "metadata": {},
          "output_type": "display_data"
        }
      ],
      "source": [
        "# Visualisation avec une heatmap pour les revenus\n",
        "import seaborn as sns\n",
        "import matplotlib.pyplot as plt\n",
        "\n",
        "# Revenus\n",
        "plt.figure(figsize=(12, 8))\n",
        "sns.heatmap(correlation_matrix_revenues, annot=True, cmap='coolwarm', fmt='.2f')\n",
        "plt.title(\"Correlation Matrix - Revenues\")\n",
        "plt.show()\n",
        "\n",
        "# Dépenses\n",
        "plt.figure(figsize=(12, 8))\n",
        "sns.heatmap(correlation_matrix_expenses, annot=True, cmap='coolwarm', fmt='.2f')\n",
        "plt.title(\"Correlation Matrix - Expenses\")\n",
        "plt.show()\n"
      ]
    },
    {
      "cell_type": "code",
      "execution_count": 37,
      "id": "Qv0IjuXbYanu",
      "metadata": {
        "id": "Qv0IjuXbYanu"
      },
      "outputs": [],
      "source": [
        "import numpy as np\n",
        "import pandas as pd\n",
        "import seaborn as sns\n",
        "import matplotlib.pyplot as plt\n"
      ]
    },
    {
      "cell_type": "code",
      "execution_count": 38,
      "id": "f3OV46nt6_t1",
      "metadata": {
        "colab": {
          "base_uri": "https://localhost:8080/"
        },
        "id": "f3OV46nt6_t1",
        "outputId": "97e2d5ed-ba7c-45cf-a41c-36849f7a7968"
      },
      "outputs": [
        {
          "name": "stdout",
          "output_type": "stream",
          "text": [
            "          Date                Description   Amount Transaction Type  \\\n",
            "156 2018-05-01                     Amazon    13.13            debit   \n",
            "157 2018-05-02           Mortgage Payment  1247.44            debit   \n",
            "158 2018-05-03                     Amazon    49.72            debit   \n",
            "159 2018-05-04              Grocery Store    42.23            debit   \n",
            "160 2018-05-04                    Netflix    11.76            debit   \n",
            "..         ...                        ...      ...              ...   \n",
            "678 2019-06-21        Credit Card Payment   100.68            debit   \n",
            "679 2019-06-21          Biweekly Paycheck  2000.00           credit   \n",
            "680 2019-06-24            Brewing Company    15.00            debit   \n",
            "681 2019-06-28                         BP    30.64            debit   \n",
            "682 2019-06-30  Internet Service Provider    75.00            debit   \n",
            "\n",
            "      Account Name  NetBalance    Month  Total_Revenues  Total_Expenses  \\\n",
            "156  Platinum Card      -13.13  2018-05         5091.55        11392.03   \n",
            "157       Checking    -1247.44  2018-05         5091.55        11392.03   \n",
            "158  Platinum Card      -49.72  2018-05         5091.55        11392.03   \n",
            "159  Platinum Card      -42.23  2018-05         5091.55        11392.03   \n",
            "160  Platinum Card      -11.76  2018-05         5091.55        11392.03   \n",
            "..             ...         ...      ...             ...             ...   \n",
            "678       Checking     -100.68  2019-06         4514.35        11999.60   \n",
            "679       Checking     2000.00  2019-06         4514.35        11999.60   \n",
            "680    Silver Card      -15.00  2019-06         4514.35        11999.60   \n",
            "681    Silver Card      -30.64  2019-06         4514.35        11999.60   \n",
            "682       Checking      -75.00  2019-06         4514.35        11999.60   \n",
            "\n",
            "     Category_Revenues  ...  Category_Music  Category_Paycheck  \\\n",
            "156               0.00  ...               0                  0   \n",
            "157               0.00  ...               0                  0   \n",
            "158               0.00  ...               0                  0   \n",
            "159               0.00  ...               0                  0   \n",
            "160               0.00  ...               0                  0   \n",
            "..                 ...  ...             ...                ...   \n",
            "678             514.35  ...               0                  0   \n",
            "679            4000.00  ...               0                  1   \n",
            "680               0.00  ...               0                  0   \n",
            "681               0.00  ...               0                  0   \n",
            "682               0.00  ...               0                  0   \n",
            "\n",
            "     Category_Restaurants  Category_Shopping  Category_Television  \\\n",
            "156                     0                  1                    0   \n",
            "157                     0                  0                    0   \n",
            "158                     0                  1                    0   \n",
            "159                     0                  0                    0   \n",
            "160                     0                  0                    0   \n",
            "..                    ...                ...                  ...   \n",
            "678                     0                  0                    0   \n",
            "679                     0                  0                    0   \n",
            "680                     0                  0                    0   \n",
            "681                     0                  0                    0   \n",
            "682                     0                  0                    0   \n",
            "\n",
            "     Category_Utilities  Transaction_Type_Encoded  Year_Month  Previous_Year  \\\n",
            "156                   0                         0     2018-05           2017   \n",
            "157                   0                         0     2018-05           2017   \n",
            "158                   0                         0     2018-05           2017   \n",
            "159                   0                         0     2018-05           2017   \n",
            "160                   0                         0     2018-05           2017   \n",
            "..                  ...                       ...         ...            ...   \n",
            "678                   0                         0     2019-06           2018   \n",
            "679                   0                         1     2019-06           2018   \n",
            "680                   0                         0     2019-06           2018   \n",
            "681                   0                         0     2019-06           2018   \n",
            "682                   0                         0     2019-06           2018   \n",
            "\n",
            "     Previous_Year_Month  \n",
            "156         2017-2018-05  \n",
            "157         2017-2018-05  \n",
            "158         2017-2018-05  \n",
            "159         2017-2018-05  \n",
            "160         2017-2018-05  \n",
            "..                   ...  \n",
            "678         2018-2019-06  \n",
            "679         2018-2019-06  \n",
            "680         2018-2019-06  \n",
            "681         2018-2019-06  \n",
            "682         2018-2019-06  \n",
            "\n",
            "[72 rows x 44 columns]\n"
          ]
        }
      ],
      "source": [
        "def detect_outliers_iqr(df, column):\n",
        "    Q1 = df[column].quantile(0.25)\n",
        "    Q3 = df[column].quantile(0.75)\n",
        "    IQR = Q3 - Q1\n",
        "    lower_bound = Q1 - 1.5 * IQR\n",
        "    upper_bound = Q3 + 1.5 * IQR\n",
        "    outliers = df[(df[column] < lower_bound) | (df[column] > upper_bound)]\n",
        "    return outliers\n",
        "\n",
        "# Détection des outliers pour les revenus et dépenses\n",
        "outliers_revenues = detect_outliers_iqr(data, 'Total_Revenues')\n",
        "outliers_expenses = detect_outliers_iqr(data, 'Total_Expenses')\n",
        "print(outliers_expenses)\n"
      ]
    },
    {
      "cell_type": "code",
      "execution_count": 39,
      "id": "vqN1aGj47nYw",
      "metadata": {
        "colab": {
          "base_uri": "https://localhost:8080/",
          "height": 1000
        },
        "id": "vqN1aGj47nYw",
        "outputId": "88dff228-ddd1-47ad-aeb4-a28ba7cd2226"
      },
      "outputs": [
        {
          "data": {
            "image/png": "[encoded data removed]",
            "text/plain": [
              "<Figure size 1200x600 with 1 Axes>"
            ]
          },
          "metadata": {},
          "output_type": "display_data"
        },
        {
          "data": {
            "image/png": "[encoded data removed]",
            "text/plain": [
              "<Figure size 1200x600 with 1 Axes>"
            ]
          },
          "metadata": {},
          "output_type": "display_data"
        }
      ],
      "source": [
        "# 2. Visualisation des outliers avec un boxplot\n",
        "plt.figure(figsize=(12, 6))\n",
        "sns.boxplot(x=data['Total_Revenues'])\n",
        "plt.title('Boxplot des Revenus')\n",
        "plt.show()\n",
        "\n",
        "plt.figure(figsize=(12, 6))\n",
        "sns.boxplot(x=data['Total_Expenses'])\n",
        "plt.title('Boxplot des Dépenses')\n",
        "plt.show()"
      ]
    },
    {
      "cell_type": "code",
      "execution_count": 40,
      "id": "L3gTdjqj8OpR",
      "metadata": {
        "colab": {
          "base_uri": "https://localhost:8080/",
          "height": 472
        },
        "id": "L3gTdjqj8OpR",
        "outputId": "fc6f8dff-a8d4-48c9-a5a6-ff47063a132a"
      },
      "outputs": [
        {
          "data": {
            "image/png": "[encoded data removed]",
            "text/plain": [
              "<Figure size 640x480 with 1 Axes>"
            ]
          },
          "metadata": {},
          "output_type": "display_data"
        }
      ],
      "source": [
        "sns.histplot(data['Total_Expenses'], kde=True)\n",
        "plt.title(\"Distribution des Dépenses Totales\")\n",
        "plt.show()\n"
      ]
    },
    {
      "cell_type": "code",
      "execution_count": 41,
      "id": "JG-36E5t9huL",
      "metadata": {
        "id": "JG-36E5t9huL"
      },
      "outputs": [],
      "source": [
        "median_expenses = data['Total_Expenses'].median()\n",
        "data['Total_Expenses'] = np.where(\n",
        "    data['Total_Expenses'].isin(outliers_expenses['Total_Expenses']),\n",
        "    median_expenses,\n",
        "    data['Total_Expenses']\n",
        ")"
      ]
    },
    {
      "cell_type": "code",
      "execution_count": 42,
      "id": "7tfHIEmlN6Nc",
      "metadata": {
        "colab": {
          "base_uri": "https://localhost:8080/",
          "height": 652
        },
        "id": "7tfHIEmlN6Nc",
        "outputId": "8c0ddab4-4e5e-4e3f-f565-155832d51220"
      },
      "outputs": [
        {
          "data": {
            "text/html": [
              "<div>\n",
              "<style scoped>\n",
              "    .dataframe tbody tr th:only-of-type {\n",
              "        vertical-align: middle;\n",
              "    }\n",
              "\n",
              "    .dataframe tbody tr th {\n",
              "        vertical-align: top;\n",
              "    }\n",
              "\n",
              "    .dataframe thead th {\n",
              "        text-align: right;\n",
              "    }\n",
              "</style>\n",
              "<table border=\"1\" class=\"dataframe\">\n",
              "  <thead>\n",
              "    <tr style=\"text-align: right;\">\n",
              "      <th></th>\n",
              "      <th>Date</th>\n",
              "      <th>Description</th>\n",
              "      <th>Amount</th>\n",
              "      <th>Transaction Type</th>\n",
              "      <th>Account Name</th>\n",
              "      <th>NetBalance</th>\n",
              "      <th>Month</th>\n",
              "      <th>Total_Revenues</th>\n",
              "      <th>Total_Expenses</th>\n",
              "      <th>Category_Revenues</th>\n",
              "      <th>...</th>\n",
              "      <th>Category_Music</th>\n",
              "      <th>Category_Paycheck</th>\n",
              "      <th>Category_Restaurants</th>\n",
              "      <th>Category_Shopping</th>\n",
              "      <th>Category_Television</th>\n",
              "      <th>Category_Utilities</th>\n",
              "      <th>Transaction_Type_Encoded</th>\n",
              "      <th>Year_Month</th>\n",
              "      <th>Previous_Year</th>\n",
              "      <th>Previous_Year_Month</th>\n",
              "    </tr>\n",
              "  </thead>\n",
              "  <tbody>\n",
              "    <tr>\n",
              "      <th>0</th>\n",
              "      <td>2018-01-01</td>\n",
              "      <td>Amazon</td>\n",
              "      <td>11.11</td>\n",
              "      <td>debit</td>\n",
              "      <td>Platinum Card</td>\n",
              "      <td>-11.11</td>\n",
              "      <td>2018-01</td>\n",
              "      <td>7162.89</td>\n",
              "      <td>2931.45</td>\n",
              "      <td>0.00</td>\n",
              "      <td>...</td>\n",
              "      <td>0</td>\n",
              "      <td>0</td>\n",
              "      <td>0</td>\n",
              "      <td>1</td>\n",
              "      <td>0</td>\n",
              "      <td>0</td>\n",
              "      <td>0</td>\n",
              "      <td>2018-01</td>\n",
              "      <td>2017</td>\n",
              "      <td>2017-2018-01</td>\n",
              "    </tr>\n",
              "    <tr>\n",
              "      <th>1</th>\n",
              "      <td>2018-01-02</td>\n",
              "      <td>Mortgage Payment</td>\n",
              "      <td>1247.44</td>\n",
              "      <td>debit</td>\n",
              "      <td>Checking</td>\n",
              "      <td>-1247.44</td>\n",
              "      <td>2018-01</td>\n",
              "      <td>7162.89</td>\n",
              "      <td>2931.45</td>\n",
              "      <td>0.00</td>\n",
              "      <td>...</td>\n",
              "      <td>0</td>\n",
              "      <td>0</td>\n",
              "      <td>0</td>\n",
              "      <td>0</td>\n",
              "      <td>0</td>\n",
              "      <td>0</td>\n",
              "      <td>0</td>\n",
              "      <td>2018-01</td>\n",
              "      <td>2017</td>\n",
              "      <td>2017-2018-01</td>\n",
              "    </tr>\n",
              "    <tr>\n",
              "      <th>2</th>\n",
              "      <td>2018-01-02</td>\n",
              "      <td>Thai Restaurant</td>\n",
              "      <td>24.22</td>\n",
              "      <td>debit</td>\n",
              "      <td>Silver Card</td>\n",
              "      <td>-24.22</td>\n",
              "      <td>2018-01</td>\n",
              "      <td>7162.89</td>\n",
              "      <td>2931.45</td>\n",
              "      <td>0.00</td>\n",
              "      <td>...</td>\n",
              "      <td>0</td>\n",
              "      <td>0</td>\n",
              "      <td>1</td>\n",
              "      <td>0</td>\n",
              "      <td>0</td>\n",
              "      <td>0</td>\n",
              "      <td>0</td>\n",
              "      <td>2018-01</td>\n",
              "      <td>2017</td>\n",
              "      <td>2017-2018-01</td>\n",
              "    </tr>\n",
              "    <tr>\n",
              "      <th>3</th>\n",
              "      <td>2018-01-03</td>\n",
              "      <td>Credit Card Payment</td>\n",
              "      <td>2298.09</td>\n",
              "      <td>credit</td>\n",
              "      <td>Platinum Card</td>\n",
              "      <td>2298.09</td>\n",
              "      <td>2018-01</td>\n",
              "      <td>7162.89</td>\n",
              "      <td>2931.45</td>\n",
              "      <td>3162.89</td>\n",
              "      <td>...</td>\n",
              "      <td>0</td>\n",
              "      <td>0</td>\n",
              "      <td>0</td>\n",
              "      <td>0</td>\n",
              "      <td>0</td>\n",
              "      <td>0</td>\n",
              "      <td>1</td>\n",
              "      <td>2018-01</td>\n",
              "      <td>2017</td>\n",
              "      <td>2017-2018-01</td>\n",
              "    </tr>\n",
              "    <tr>\n",
              "      <th>4</th>\n",
              "      <td>2018-01-04</td>\n",
              "      <td>Netflix</td>\n",
              "      <td>11.76</td>\n",
              "      <td>debit</td>\n",
              "      <td>Platinum Card</td>\n",
              "      <td>-11.76</td>\n",
              "      <td>2018-01</td>\n",
              "      <td>7162.89</td>\n",
              "      <td>2931.45</td>\n",
              "      <td>0.00</td>\n",
              "      <td>...</td>\n",
              "      <td>0</td>\n",
              "      <td>0</td>\n",
              "      <td>0</td>\n",
              "      <td>0</td>\n",
              "      <td>0</td>\n",
              "      <td>0</td>\n",
              "      <td>0</td>\n",
              "      <td>2018-01</td>\n",
              "      <td>2017</td>\n",
              "      <td>2017-2018-01</td>\n",
              "    </tr>\n",
              "    <tr>\n",
              "      <th>...</th>\n",
              "      <td>...</td>\n",
              "      <td>...</td>\n",
              "      <td>...</td>\n",
              "      <td>...</td>\n",
              "      <td>...</td>\n",
              "      <td>...</td>\n",
              "      <td>...</td>\n",
              "      <td>...</td>\n",
              "      <td>...</td>\n",
              "      <td>...</td>\n",
              "      <td>...</td>\n",
              "      <td>...</td>\n",
              "      <td>...</td>\n",
              "      <td>...</td>\n",
              "      <td>...</td>\n",
              "      <td>...</td>\n",
              "      <td>...</td>\n",
              "      <td>...</td>\n",
              "      <td>...</td>\n",
              "      <td>...</td>\n",
              "      <td>...</td>\n",
              "    </tr>\n",
              "    <tr>\n",
              "      <th>801</th>\n",
              "      <td>2019-09-27</td>\n",
              "      <td>Biweekly Paycheck</td>\n",
              "      <td>2250.00</td>\n",
              "      <td>credit</td>\n",
              "      <td>Checking</td>\n",
              "      <td>2250.00</td>\n",
              "      <td>2019-09</td>\n",
              "      <td>6537.06</td>\n",
              "      <td>5998.42</td>\n",
              "      <td>4500.00</td>\n",
              "      <td>...</td>\n",
              "      <td>0</td>\n",
              "      <td>1</td>\n",
              "      <td>0</td>\n",
              "      <td>0</td>\n",
              "      <td>0</td>\n",
              "      <td>0</td>\n",
              "      <td>1</td>\n",
              "      <td>2019-09</td>\n",
              "      <td>2018</td>\n",
              "      <td>2018-2019-09</td>\n",
              "    </tr>\n",
              "    <tr>\n",
              "      <th>802</th>\n",
              "      <td>2019-09-28</td>\n",
              "      <td>BP</td>\n",
              "      <td>33.46</td>\n",
              "      <td>debit</td>\n",
              "      <td>Platinum Card</td>\n",
              "      <td>-33.46</td>\n",
              "      <td>2019-09</td>\n",
              "      <td>6537.06</td>\n",
              "      <td>5998.42</td>\n",
              "      <td>0.00</td>\n",
              "      <td>...</td>\n",
              "      <td>0</td>\n",
              "      <td>0</td>\n",
              "      <td>0</td>\n",
              "      <td>0</td>\n",
              "      <td>0</td>\n",
              "      <td>0</td>\n",
              "      <td>0</td>\n",
              "      <td>2019-09</td>\n",
              "      <td>2018</td>\n",
              "      <td>2018-2019-09</td>\n",
              "    </tr>\n",
              "    <tr>\n",
              "      <th>803</th>\n",
              "      <td>2019-09-28</td>\n",
              "      <td>Sheetz</td>\n",
              "      <td>4.27</td>\n",
              "      <td>debit</td>\n",
              "      <td>Platinum Card</td>\n",
              "      <td>-4.27</td>\n",
              "      <td>2019-09</td>\n",
              "      <td>6537.06</td>\n",
              "      <td>5998.42</td>\n",
              "      <td>0.00</td>\n",
              "      <td>...</td>\n",
              "      <td>0</td>\n",
              "      <td>0</td>\n",
              "      <td>0</td>\n",
              "      <td>0</td>\n",
              "      <td>0</td>\n",
              "      <td>0</td>\n",
              "      <td>0</td>\n",
              "      <td>2019-09</td>\n",
              "      <td>2018</td>\n",
              "      <td>2018-2019-09</td>\n",
              "    </tr>\n",
              "    <tr>\n",
              "      <th>804</th>\n",
              "      <td>2019-09-30</td>\n",
              "      <td>Starbucks</td>\n",
              "      <td>1.75</td>\n",
              "      <td>debit</td>\n",
              "      <td>Platinum Card</td>\n",
              "      <td>-1.75</td>\n",
              "      <td>2019-09</td>\n",
              "      <td>6537.06</td>\n",
              "      <td>5998.42</td>\n",
              "      <td>0.00</td>\n",
              "      <td>...</td>\n",
              "      <td>0</td>\n",
              "      <td>0</td>\n",
              "      <td>0</td>\n",
              "      <td>0</td>\n",
              "      <td>0</td>\n",
              "      <td>0</td>\n",
              "      <td>0</td>\n",
              "      <td>2019-09</td>\n",
              "      <td>2018</td>\n",
              "      <td>2018-2019-09</td>\n",
              "    </tr>\n",
              "    <tr>\n",
              "      <th>805</th>\n",
              "      <td>2019-09-30</td>\n",
              "      <td>Internet Service Provider</td>\n",
              "      <td>75.00</td>\n",
              "      <td>debit</td>\n",
              "      <td>Checking</td>\n",
              "      <td>-75.00</td>\n",
              "      <td>2019-09</td>\n",
              "      <td>6537.06</td>\n",
              "      <td>5998.42</td>\n",
              "      <td>0.00</td>\n",
              "      <td>...</td>\n",
              "      <td>0</td>\n",
              "      <td>0</td>\n",
              "      <td>0</td>\n",
              "      <td>0</td>\n",
              "      <td>0</td>\n",
              "      <td>0</td>\n",
              "      <td>0</td>\n",
              "      <td>2019-09</td>\n",
              "      <td>2018</td>\n",
              "      <td>2018-2019-09</td>\n",
              "    </tr>\n",
              "  </tbody>\n",
              "</table>\n",
              "<p>806 rows × 44 columns</p>\n",
              "</div>"
            ],
            "text/plain": [
              "          Date                Description   Amount Transaction Type  \\\n",
              "0   2018-01-01                     Amazon    11.11            debit   \n",
              "1   2018-01-02           Mortgage Payment  1247.44            debit   \n",
              "2   2018-01-02            Thai Restaurant    24.22            debit   \n",
              "3   2018-01-03        Credit Card Payment  2298.09           credit   \n",
              "4   2018-01-04                    Netflix    11.76            debit   \n",
              "..         ...                        ...      ...              ...   \n",
              "801 2019-09-27          Biweekly Paycheck  2250.00           credit   \n",
              "802 2019-09-28                         BP    33.46            debit   \n",
              "803 2019-09-28                     Sheetz     4.27            debit   \n",
              "804 2019-09-30                  Starbucks     1.75            debit   \n",
              "805 2019-09-30  Internet Service Provider    75.00            debit   \n",
              "\n",
              "      Account Name  NetBalance    Month  Total_Revenues  Total_Expenses  \\\n",
              "0    Platinum Card      -11.11  2018-01         7162.89         2931.45   \n",
              "1         Checking    -1247.44  2018-01         7162.89         2931.45   \n",
              "2      Silver Card      -24.22  2018-01         7162.89         2931.45   \n",
              "3    Platinum Card     2298.09  2018-01         7162.89         2931.45   \n",
              "4    Platinum Card      -11.76  2018-01         7162.89         2931.45   \n",
              "..             ...         ...      ...             ...             ...   \n",
              "801       Checking     2250.00  2019-09         6537.06         5998.42   \n",
              "802  Platinum Card      -33.46  2019-09         6537.06         5998.42   \n",
              "803  Platinum Card       -4.27  2019-09         6537.06         5998.42   \n",
              "804  Platinum Card       -1.75  2019-09         6537.06         5998.42   \n",
              "805       Checking      -75.00  2019-09         6537.06         5998.42   \n",
              "\n",
              "     Category_Revenues  ...  Category_Music  Category_Paycheck  \\\n",
              "0                 0.00  ...               0                  0   \n",
              "1                 0.00  ...               0                  0   \n",
              "2                 0.00  ...               0                  0   \n",
              "3              3162.89  ...               0                  0   \n",
              "4                 0.00  ...               0                  0   \n",
              "..                 ...  ...             ...                ...   \n",
              "801            4500.00  ...               0                  1   \n",
              "802               0.00  ...               0                  0   \n",
              "803               0.00  ...               0                  0   \n",
              "804               0.00  ...               0                  0   \n",
              "805               0.00  ...               0                  0   \n",
              "\n",
              "     Category_Restaurants  Category_Shopping  Category_Television  \\\n",
              "0                       0                  1                    0   \n",
              "1                       0                  0                    0   \n",
              "2                       1                  0                    0   \n",
              "3                       0                  0                    0   \n",
              "4                       0                  0                    0   \n",
              "..                    ...                ...                  ...   \n",
              "801                     0                  0                    0   \n",
              "802                     0                  0                    0   \n",
              "803                     0                  0                    0   \n",
              "804                     0                  0                    0   \n",
              "805                     0                  0                    0   \n",
              "\n",
              "     Category_Utilities  Transaction_Type_Encoded  Year_Month  Previous_Year  \\\n",
              "0                     0                         0     2018-01           2017   \n",
              "1                     0                         0     2018-01           2017   \n",
              "2                     0                         0     2018-01           2017   \n",
              "3                     0                         1     2018-01           2017   \n",
              "4                     0                         0     2018-01           2017   \n",
              "..                  ...                       ...         ...            ...   \n",
              "801                   0                         1     2019-09           2018   \n",
              "802                   0                         0     2019-09           2018   \n",
              "803                   0                         0     2019-09           2018   \n",
              "804                   0                         0     2019-09           2018   \n",
              "805                   0                         0     2019-09           2018   \n",
              "\n",
              "     Previous_Year_Month  \n",
              "0           2017-2018-01  \n",
              "1           2017-2018-01  \n",
              "2           2017-2018-01  \n",
              "3           2017-2018-01  \n",
              "4           2017-2018-01  \n",
              "..                   ...  \n",
              "801         2018-2019-09  \n",
              "802         2018-2019-09  \n",
              "803         2018-2019-09  \n",
              "804         2018-2019-09  \n",
              "805         2018-2019-09  \n",
              "\n",
              "[806 rows x 44 columns]"
            ]
          },
          "execution_count": 42,
          "metadata": {},
          "output_type": "execute_result"
        }
      ],
      "source": [
        "data"
      ]
    },
    {
      "cell_type": "code",
      "execution_count": 43,
      "id": "eRwmSn24N07T",
      "metadata": {
        "id": "eRwmSn24N07T"
      },
      "outputs": [],
      "source": [
        "import pandas as pd\n",
        "from sklearn.model_selection import train_test_split\n",
        "from sklearn.linear_model import LinearRegression\n",
        "from sklearn.preprocessing import StandardScaler, OneHotEncoder\n",
        "from sklearn.compose import ColumnTransformer\n",
        "from sklearn.pipeline import Pipeline\n",
        "from sklearn.metrics import mean_absolute_error, mean_squared_error, r2_score\n",
        "\n",
        "X_revenues = data[['Previous_Month_Revenues', 'Rolling_Revenues_3M', 'Previous_NetBalance'] ]\n",
        "y_revenues = data['Total_Revenues']\n",
        "X_train_revenues, X_test_revenues, y_train_revenues, y_test_revenues = train_test_split(X_revenues, y_revenues, test_size=0.2, random_state=42)\n"
      ]
    },
    {
      "cell_type": "code",
      "execution_count": 44,
      "id": "4RAxZY8jQFXx",
      "metadata": {
        "id": "4RAxZY8jQFXx"
      },
      "outputs": [],
      "source": [
        "# Variables d'entrée pour les dépenses (inclure uniquement les colonnes pertinentes pour les dépenses)\n",
        "X_expenses = data[['Previous_Month_Expenses', 'Rolling_Expenses_3M', 'Previous_NetBalance'] ]\n",
        "y_expenses = data['Total_Expenses']\n",
        "X_train_expenses, X_test_expenses, y_train_expenses, y_test_expenses = train_test_split(X_expenses, y_expenses, test_size=0.2, random_state=42)\n",
        "\n",
        "#"
      ]
    },
    {
      "cell_type": "code",
      "execution_count": 46,
      "id": "I9nw4idrQm96",
      "metadata": {
        "colab": {
          "base_uri": "https://localhost:8080/"
        },
        "id": "I9nw4idrQm96",
        "outputId": "4f04a20f-6451-449a-9fdf-821615fb3e7f"
      },
      "outputs": [
        {
          "name": "stdout",
          "output_type": "stream",
          "text": [
            "Meilleurs paramètres : {'max_depth': 10, 'min_samples_leaf': 1, 'min_samples_split': 2, 'n_estimators': 200}\n",
            "Dépenses avec RandomForest Model Evaluation:\n",
            "MAE: 6.4725\n",
            "MSE: 1256.3320\n",
            "R²: 0.9986\n",
            "\n",
            "Score (R²) sur l'ensemble de test : 0.9986\n"
          ]
        }
      ],
      "source": [
        "from sklearn.model_selection import GridSearchCV\n",
        "from sklearn.ensemble import RandomForestRegressor\n",
        "from sklearn.metrics import mean_absolute_error, mean_squared_error, r2_score\n",
        "\n",
        "# Définir le modèle RandomForest\n",
        "rf_model_expenses = RandomForestRegressor(random_state=42)\n",
        "\n",
        "# Définir la grille de paramètres à tester pour n_estimators et max_depth\n",
        "param_grid = {\n",
        "    'n_estimators': [50, 100, 200],  # Essayer différents nombres d'arbres\n",
        "    'max_depth': [10, 20, 30, None],  # Limiter la profondeur des arbres\n",
        "    'min_samples_split': [2, 5, 10],  # Nombre minimal d'échantillons pour diviser un noeud\n",
        "    'min_samples_leaf': [1, 2, 4]     # Nombre minimal d'échantillons par feuille\n",
        "}\n",
        "\n",
        "# Appliquer la recherche sur la grille avec validation croisée (cross-validation)\n",
        "grid_search = GridSearchCV(estimator=rf_model_expenses, param_grid=param_grid,\n",
        "                           cv=5, n_jobs=-1, scoring='neg_mean_squared_error')\n",
        "\n",
        "# Entraîner le modèle avec GridSearchCV\n",
        "grid_search.fit(X_train_expenses, y_train_expenses)\n",
        "\n",
        "# Afficher les meilleurs paramètres trouvés par GridSearchCV\n",
        "print(f\"Meilleurs paramètres : {grid_search.best_params_}\")\n",
        "\n",
        "# Utiliser les meilleurs paramètres pour prédire avec le modèle\n",
        "best_rf_model_expenses = grid_search.best_estimator_\n",
        "\n",
        "# Faire des prédictions sur l'ensemble de test\n",
        "y_pred_expenses_rf = best_rf_model_expenses.predict(X_test_expenses)\n",
        "\n",
        "# Évaluation du modèle\n",
        "def evaluate_model(y_true, y_pred, model_name):\n",
        "    print(f\"{model_name} Model Evaluation:\")\n",
        "    print(f\"MAE: {mean_absolute_error(y_true, y_pred):.4f}\")\n",
        "    print(f\"MSE: {mean_squared_error(y_true, y_pred):.4f}\")\n",
        "    print(f\"R²: {r2_score(y_true, y_pred):.4f}\")\n",
        "    print()\n",
        "\n",
        "# Évaluation des dépenses\n",
        "evaluate_model(y_test_expenses, y_pred_expenses_rf, \"Dépenses avec RandomForest\")\n",
        "\n",
        "# Afficher le score sur l'ensemble de test\n",
        "score_rf_expenses = best_rf_model_expenses.score(X_test_expenses, y_test_expenses)\n",
        "print(f\"Score (R²) sur l'ensemble de test : {score_rf_expenses:.4f}\")\n"
      ]
    },
    {
      "cell_type": "code",
      "execution_count": 47,
      "id": "vrepy1psYswV",
      "metadata": {
        "colab": {
          "base_uri": "https://localhost:8080/",
          "height": 565
        },
        "id": "vrepy1psYswV",
        "outputId": "c55443f4-e74b-4e9f-ca1e-c98471bb5a74"
      },
      "outputs": [
        {
          "data": {
            "image/png": "[encoded data removed]",
            "text/plain": [
              "<Figure size 1000x600 with 1 Axes>"
            ]
          },
          "metadata": {},
          "output_type": "display_data"
        }
      ],
      "source": [
        "import matplotlib.pyplot as plt\n",
        "\n",
        "# Tracer les valeurs réelles vs les valeurs prédites pour les revenus\n",
        "plt.figure(figsize=(10, 6))\n",
        "plt.scatter(y_test_expenses, y_pred_expenses_rf, color='blue', alpha=0.6)\n",
        "plt.plot([y_test_expenses.min(), y_test_expenses.max()],\n",
        "         [y_test_expenses.min(), y_test_expenses.max()], color='red', linestyle='--')\n",
        "plt.xlabel('Valeurs réelles')\n",
        "plt.ylabel('Valeurs prédites')\n",
        "plt.title('Prédictions vs Réel (expenses avec RandomForest)')\n",
        "plt.grid(True)\n",
        "plt.show()"
      ]
    },
    {
      "cell_type": "code",
      "execution_count": 48,
      "id": "D9oP9bY1RtqD",
      "metadata": {
        "colab": {
          "base_uri": "https://localhost:8080/"
        },
        "id": "D9oP9bY1RtqD",
        "outputId": "af1be5a8-1565-49cb-cd4e-caf6eee12a92"
      },
      "outputs": [
        {
          "name": "stdout",
          "output_type": "stream",
          "text": [
            "Meilleurs paramètres pour les revenus : {'max_depth': 10, 'min_samples_leaf': 4, 'min_samples_split': 10, 'n_estimators': 50}\n",
            "Revenus avec RandomForest Model Evaluation:\n",
            "MAE: 1.3965\n",
            "MSE: 49.6976\n",
            "R²: 1.0000\n",
            "\n",
            "Score (R²) sur l'ensemble de test pour les revenus : 1.0000\n"
          ]
        }
      ],
      "source": [
        "from sklearn.model_selection import GridSearchCV\n",
        "from sklearn.ensemble import RandomForestRegressor\n",
        "from sklearn.metrics import mean_absolute_error, mean_squared_error, r2_score\n",
        "\n",
        "# Définir le modèle RandomForest pour les revenus\n",
        "rf_model_revenues = RandomForestRegressor(random_state=42)\n",
        "\n",
        "# Définir la grille de paramètres à tester pour n_estimators et max_depth\n",
        "param_grid_revenues = {\n",
        "    'n_estimators': [50, 100, 200],  # Essayer différents nombres d'arbres\n",
        "    'max_depth': [10, 20, 30, None],  # Limiter la profondeur des arbres\n",
        "    'min_samples_split': [2, 5, 10],  # Nombre minimal d'échantillons pour diviser un noeud\n",
        "    'min_samples_leaf': [1, 2, 4]     # Nombre minimal d'échantillons par feuille\n",
        "}\n",
        "\n",
        "# Appliquer la recherche sur la grille avec validation croisée (cross-validation)\n",
        "grid_search_revenues = GridSearchCV(estimator=rf_model_revenues, param_grid=param_grid_revenues,\n",
        "                                    cv=5, n_jobs=-1, scoring='neg_mean_squared_error')\n",
        "\n",
        "# Entraîner le modèle avec GridSearchCV\n",
        "grid_search_revenues.fit(X_train_revenues, y_train_revenues)\n",
        "\n",
        "# Afficher les meilleurs paramètres trouvés par GridSearchCV\n",
        "print(f\"Meilleurs paramètres pour les revenus : {grid_search_revenues.best_params_}\")\n",
        "\n",
        "# Utiliser les meilleurs paramètres pour prédire avec le modèle\n",
        "best_rf_model_revenues = grid_search_revenues.best_estimator_\n",
        "\n",
        "# Faire des prédictions sur l'ensemble de test\n",
        "y_pred_revenues_rf = best_rf_model_revenues.predict(X_test_revenues)\n",
        "\n",
        "# Évaluation du modèle\n",
        "def evaluate_model(y_true, y_pred, model_name):\n",
        "    print(f\"{model_name} Model Evaluation:\")\n",
        "    print(f\"MAE: {mean_absolute_error(y_true, y_pred):.4f}\")\n",
        "    print(f\"MSE: {mean_squared_error(y_true, y_pred):.4f}\")\n",
        "    print(f\"R²: {r2_score(y_true, y_pred):.4f}\")\n",
        "    print()\n",
        "\n",
        "# Évaluation des revenus\n",
        "evaluate_model(y_test_revenues, y_pred_revenues_rf, \"Revenus avec RandomForest\")\n",
        "\n",
        "# Afficher le score sur l'ensemble de test\n",
        "score_rf_revenues = best_rf_model_revenues.score(X_test_revenues, y_test_revenues)\n",
        "print(f\"Score (R²) sur l'ensemble de test pour les revenus : {score_rf_revenues:.4f}\")\n"
      ]
    },
    {
      "cell_type": "code",
      "execution_count": 59,
      "id": "epsAiHWvYfhZ",
      "metadata": {
        "colab": {
          "base_uri": "https://localhost:8080/",
          "height": 564
        },
        "id": "epsAiHWvYfhZ",
        "outputId": "899e2a6e-2a39-40db-a692-3466677c49ba"
      },
      "outputs": [
        {
          "data": {
            "image/png": "[encoded data removed]",
            "text/plain": [
              "<Figure size 1000x600 with 1 Axes>"
            ]
          },
          "metadata": {},
          "output_type": "display_data"
        }
      ],
      "source": [
        "import matplotlib.pyplot as plt\n",
        "\n",
        "# Tracer les valeurs réelles vs les valeurs prédites pour les revenus\n",
        "plt.figure(figsize=(10, 6))\n",
        "plt.scatter(y_test_revenues, y_pred_revenues_rf, color='blue', alpha=0.6)\n",
        "plt.plot([y_test_revenues.min(), y_test_revenues.max()],\n",
        "         [y_test_revenues.min(), y_test_revenues.max()], color='red', linestyle='--')\n",
        "plt.xlabel('Valeurs réelles')\n",
        "plt.ylabel('Valeurs prédites')\n",
        "plt.title('Prédictions vs Réel (Revenus avec RandomForest)')\n",
        "plt.grid(True)\n",
        "plt.show()\n"
      ]
    },
    {
      "cell_type": "code",
      "execution_count": 1,
      "id": "40d6250b",
      "metadata": {},
      "outputs": [
        {
          "name": "stderr",
          "output_type": "stream",
          "text": [
            "INFO:     Started server process [1488]\n",
            "INFO:     Waiting for application startup.\n",
            "INFO:     Application startup complete.\n",
            "INFO:     Uvicorn running on http://127.0.0.1:8000 (Press CTRL+C to quit)\n"
          ]
        },
        {
          "name": "stdout",
          "output_type": "stream",
          "text": [
            "INFO:     127.0.0.1:52034 - \"GET / HTTP/1.1\" 404 Not Found\n",
            "INFO:     127.0.0.1:52035 - \"GET / HTTP/1.1\" 404 Not Found\n",
            "INFO:     127.0.0.1:52038 - \"GET /get_predictions HTTP/1.1\" 405 Method Not Allowed\n"
          ]
        }
      ],
      "source": [
        "import nest_asyncio\n",
        "from fastapi import FastAPI\n",
        "from pydantic import BaseModel\n",
        "import mysql.connector\n",
        "import pandas as pd\n",
        "from sklearn.ensemble import RandomForestRegressor\n",
        "from fastapi.middleware.cors import CORSMiddleware\n",
        "\n",
        "# Permettre à FastAPI de fonctionner dans un notebook\n",
        "nest_asyncio.apply()\n",
        "\n",
        "# Création de l'application FastAPI\n",
        "app = FastAPI()\n",
        "\n",
        "# Ajouter le middleware CORS pour autoriser les requêtes depuis d'autres domaines\n",
        "app.add_middleware(\n",
        "    CORSMiddleware,\n",
        "    allow_origins=[\"*\"],  # Ajustez cette liste si vous voulez restreindre les origines autorisées\n",
        "    allow_credentials=True,\n",
        "    allow_methods=[\"*\"],\n",
        "    allow_headers=[\"*\"],\n",
        ")\n",
        "\n",
        "# Définition du modèle de demande pour obtenir les prédictions\n",
        "class UserRequest(BaseModel):\n",
        "    user_id: int\n",
        "\n",
        "@app.post(\"/get_predictions\")\n",
        "async def get_predictions(request: UserRequest):\n",
        "    return {\"message\": \"Success\"}\n",
        "    user_id = request.user_id\n",
        "    try:\n",
        "        # Connexion à la base de données MySQL\n",
        "        with mysql.connector.connect(\n",
        "            host='localhost',\n",
        "            user='root',\n",
        "            password='',\n",
        "            database='budget'\n",
        "        ) as connection:\n",
        "            query_test = f\"SELECT * FROM test_data WHERE user_id = {user_id} LIMIT 1;\"\n",
        "            data_test = pd.read_sql(query_test, connection)\n",
        "\n",
        "        # Vérifier si les données existent pour l'utilisateur\n",
        "        if data_test.empty:\n",
        "            return {\"error\": \"No data found for the user\"}\n",
        "\n",
        "        # Prédictions des revenus\n",
        "        test_data_revenues = data_test[['Previous_Month_Revenues', 'Rolling_Revenues_3M', 'Previous_NetBalance']]\n",
        "        best_rf_model_revenues = RandomForestRegressor()\n",
        "        predicted_revenue = best_rf_model_revenues.predict(test_data_revenues)\n",
        "\n",
        "        # Prédictions des dépenses\n",
        "        test_data_expenses = data_test[['Previous_Month_Expenses', 'Rolling_Expenses_3M', 'Previous_NetBalance']]\n",
        "        best_rf_model_expenses = RandomForestRegressor()\n",
        "        predicted_expense = best_rf_model_expenses.predict(test_data_expenses)\n",
        "\n",
        "        return {\n",
        "            'predicted_revenue': predicted_revenue[0],\n",
        "            'predicted_expense': predicted_expense[0]\n",
        "        }\n",
        "\n",
        "    except mysql.connector.Error as db_err:\n",
        "        return {\"error\": f\"Database error: {str(db_err)}\"}\n",
        "    except Exception as e:\n",
        "        return {\"error\": f\"An unexpected error occurred: {str(e)}\"}\n",
        "\n",
        "# Lancer FastAPI sur un port spécifique\n",
        "import uvicorn\n",
        "from threading import Thread\n",
        "\n",
        "def run():\n",
        "    uvicorn.run(app, host=\"127.0.0.1\", port=8000)\n",
        "\n",
        "thread = Thread(target=run)\n",
        "thread.start()\n"
      ]
    },
    {
      "cell_type": "code",
      "execution_count": null,
      "id": "6bc4d021",
      "metadata": {},
      "outputs": [],
      "source": []
    }
  ],
  "metadata": {
    "colab": {
      "provenance": []
    },
    "kernelspec": {
      "display_name": "base",
      "language": "python",
      "name": "python3"
    },
    "language_info": {
      "codemirror_mode": {
        "name": "ipython",
        "version": 3
      },
      "file_extension": ".py",
      "mimetype": "text/x-python",
      "name": "python",
      "nbconvert_exporter": "python",
      "pygments_lexer": "ipython3",
      "version": "3.9.7"
    }
  },
  "nbformat": 4,
  "nbformat_minor": 5
}
